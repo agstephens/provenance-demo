{
 "cells": [
  {
   "cell_type": "markdown",
   "metadata": {},
   "source": [
    "# Basic ESMValTool provenance"
   ]
  },
  {
   "cell_type": "code",
   "execution_count": null,
   "metadata": {},
   "outputs": [],
   "source": [
    "from prov.model import ProvDocument"
   ]
  },
  {
   "cell_type": "code",
   "execution_count": null,
   "metadata": {},
   "outputs": [],
   "source": [
    "# Create a new provenance document\n",
    "doc = ProvDocument()"
   ]
  },
  {
   "cell_type": "markdown",
   "metadata": {},
   "source": [
    "## Namespaces"
   ]
  },
  {
   "cell_type": "code",
   "execution_count": null,
   "metadata": {},
   "outputs": [],
   "source": [
    "# Declaring namespaces for various prefixes used in the example\n",
    "ESMVALTOOL_URI_PREFIX = 'https://esmvaltool.org/'\n",
    "doc.add_namespace('software', ESMVALTOOL_URI_PREFIX + 'software')\n",
    "doc.add_namespace('project', ESMVALTOOL_URI_PREFIX + 'project')\n",
    "doc.add_namespace('author', ESMVALTOOL_URI_PREFIX + 'author')\n",
    "doc.add_namespace('recipe', ESMVALTOOL_URI_PREFIX + 'recipe')\n",
    "doc.add_namespace('task', ESMVALTOOL_URI_PREFIX + 'task')\n",
    "doc.add_namespace('file', ESMVALTOOL_URI_PREFIX + 'file')"
   ]
  },
  {
   "cell_type": "markdown",
   "metadata": {},
   "source": [
    "## ESMValTool Recipe"
   ]
  },
  {
   "cell_type": "code",
   "execution_count": null,
   "metadata": {},
   "outputs": [],
   "source": [
    "# Create recipe (entity) and its author and project (agents)\n",
    "recipe = doc.entity('recipe:recipe_rainfarm.yml')\n",
    "author1 = doc.agent('author:von Hardenberg, Jost')\n",
    "project1 = doc.agent('project:Copernicus Climate Change Service (MAGIC)')\n"
   ]
  },
  {
   "cell_type": "code",
   "execution_count": null,
   "metadata": {},
   "outputs": [],
   "source": [
    "# Relate recipe to author and project\n",
    "doc.wasAttributedTo(recipe, author1)\n",
    "doc.wasAttributedTo(recipe, project1)"
   ]
  },
  {
   "cell_type": "code",
   "execution_count": null,
   "metadata": {},
   "outputs": [],
   "source": [
    "# Show current doc\n",
    "print(doc.get_provn())"
   ]
  },
  {
   "cell_type": "markdown",
   "metadata": {},
   "source": [
    "## Task one"
   ]
  },
  {
   "cell_type": "code",
   "execution_count": null,
   "metadata": {},
   "outputs": [],
   "source": [
    "# software used\n",
    "software = doc.activity('software:esmvaltool==2.0.0')"
   ]
  },
  {
   "cell_type": "code",
   "execution_count": null,
   "metadata": {},
   "outputs": [],
   "source": [
    "# task one\n",
    "task1 = doc.activity('task:rainfarm/one')"
   ]
  },
  {
   "cell_type": "code",
   "execution_count": null,
   "metadata": {},
   "outputs": [],
   "source": [
    "# task started by esmvaltool\n",
    "doc.start(task1, starter=software, trigger=recipe)"
   ]
  },
  {
   "cell_type": "code",
   "execution_count": null,
   "metadata": {},
   "outputs": [],
   "source": [
    "# Generated Output file from task one\n",
    "input1 = doc.entity('file:pr_19900101-19991231.nc')\n",
    "output1 = doc.entity('file:pr_1997-1997.nc')\n",
    "doc.wasDerivedFrom(output1, input1, activity=task1)"
   ]
  },
  {
   "cell_type": "code",
   "execution_count": null,
   "metadata": {},
   "outputs": [],
   "source": [
    "# Show current doc\n",
    "print(doc.get_provn())"
   ]
  },
  {
   "cell_type": "markdown",
   "metadata": {},
   "source": [
    "## Task two"
   ]
  },
  {
   "cell_type": "code",
   "execution_count": null,
   "metadata": {},
   "outputs": [],
   "source": [
    "# task two\n",
    "task2 = doc.activity('task:rainfarm/two')"
   ]
  },
  {
   "cell_type": "code",
   "execution_count": null,
   "metadata": {},
   "outputs": [],
   "source": [
    "# task started by esmvaltool\n",
    "doc.start(task2, starter=software, trigger=recipe)"
   ]
  },
  {
   "cell_type": "code",
   "execution_count": null,
   "metadata": {},
   "outputs": [],
   "source": [
    "# Generated Output file from task two\n",
    "output2 = doc.entity('file:downscaled_pr_1997-1997.nc')\n",
    "doc.wasDerivedFrom(output2, output1, activity=task2)"
   ]
  },
  {
   "cell_type": "code",
   "execution_count": null,
   "metadata": {},
   "outputs": [],
   "source": [
    "# Show current doc\n",
    "print(doc.get_provn())"
   ]
  },
  {
   "cell_type": "code",
   "execution_count": null,
   "metadata": {},
   "outputs": [],
   "source": [
    "print(doc.serialize(format='xml'))"
   ]
  },
  {
   "cell_type": "code",
   "execution_count": null,
   "metadata": {},
   "outputs": [],
   "source": [
    "from prov.dot import prov_to_dot\n",
    "figure = prov_to_dot(doc)\n",
    "figure.write_png(\"basic_esmvaltool_prov.png\")"
   ]
  },
  {
   "cell_type": "code",
   "execution_count": null,
   "metadata": {},
   "outputs": [],
   "source": [
    "from IPython.display import Image\n",
    "Image(\"basic_esmvaltool_prov.png\")"
   ]
  },
  {
   "cell_type": "code",
   "execution_count": null,
   "metadata": {},
   "outputs": [],
   "source": []
  }
 ],
 "metadata": {
  "kernelspec": {
   "display_name": "Python 3",
   "language": "python",
   "name": "python3"
  },
  "language_info": {
   "codemirror_mode": {
    "name": "ipython",
    "version": 3
   },
   "file_extension": ".py",
   "mimetype": "text/x-python",
   "name": "python",
   "nbconvert_exporter": "python",
   "pygments_lexer": "ipython3",
   "version": "3.9.0"
  }
 },
 "nbformat": 4,
 "nbformat_minor": 4
}
